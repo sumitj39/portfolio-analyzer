{
 "cells": [
  {
   "cell_type": "code",
   "execution_count": 1,
   "metadata": {},
   "outputs": [],
   "source": [
    "import pandas as pd\n",
    "import numpy as np\n",
    "import datareader"
   ]
  },
  {
   "cell_type": "code",
   "execution_count": 2,
   "metadata": {},
   "outputs": [],
   "source": [
    "scrips = [\"DMART\",\"GOLDBEES\",\"HDFC\",\"JUNIORBEES\",\"NIFTYBEES\",\"TCS\",\"MARUTI\",\"KNRCON\"]"
   ]
  },
  {
   "cell_type": "code",
   "execution_count": 3,
   "metadata": {},
   "outputs": [
    {
     "name": "stdout",
     "output_type": "stream",
     "text": [
      "request url: https://kitecharts-aws.zerodha.com/api/chart/5097729/week?&from=2010-01-01&to=2015-06-23\n"
     ]
    },
    {
     "name": "stderr",
     "output_type": "stream",
     "text": [
      "WARNING:root:No candles found for the given interval\n"
     ]
    },
    {
     "name": "stdout",
     "output_type": "stream",
     "text": [
      "request url: https://kitecharts-aws.zerodha.com/api/chart/5097729/week?&from=2014-07-12&to=2020-01-01\n",
      "request url: https://kitecharts-aws.zerodha.com/api/chart/3693569/week?&from=2010-01-01&to=2015-06-23\n",
      "request url: https://kitecharts-aws.zerodha.com/api/chart/3693569/week?&from=2014-07-12&to=2020-01-01\n",
      "request url: https://kitecharts-aws.zerodha.com/api/chart/340481/week?&from=2010-01-01&to=2015-06-23\n",
      "request url: https://kitecharts-aws.zerodha.com/api/chart/340481/week?&from=2014-07-12&to=2020-01-01\n",
      "request url: https://kitecharts-aws.zerodha.com/api/chart/2800385/week?&from=2010-01-01&to=2015-06-23\n",
      "request url: https://kitecharts-aws.zerodha.com/api/chart/2800385/week?&from=2014-07-12&to=2020-01-01\n",
      "request url: https://kitecharts-aws.zerodha.com/api/chart/2707457/week?&from=2010-01-01&to=2015-06-23\n",
      "request url: https://kitecharts-aws.zerodha.com/api/chart/2707457/week?&from=2014-07-12&to=2020-01-01\n",
      "request url: https://kitecharts-aws.zerodha.com/api/chart/2953217/week?&from=2010-01-01&to=2015-06-23\n",
      "request url: https://kitecharts-aws.zerodha.com/api/chart/2953217/week?&from=2014-07-12&to=2020-01-01\n",
      "request url: https://kitecharts-aws.zerodha.com/api/chart/2815745/week?&from=2010-01-01&to=2015-06-23\n",
      "request url: https://kitecharts-aws.zerodha.com/api/chart/2815745/week?&from=2014-07-12&to=2020-01-01\n",
      "request url: https://kitecharts-aws.zerodha.com/api/chart/3912449/week?&from=2010-01-01&to=2015-06-23\n",
      "request url: https://kitecharts-aws.zerodha.com/api/chart/3912449/week?&from=2014-07-12&to=2020-01-01\n"
     ]
    }
   ],
   "source": [
    "candles = datareader.get_candles(scrips, '2010-01-01', '2020-01-01')"
   ]
  },
  {
   "cell_type": "code",
   "execution_count": 4,
   "metadata": {},
   "outputs": [],
   "source": [
    "def merge_candles(candles):\n",
    "    # takes dict keys as scrip names. drops all colums except ['Close', 'Date'] and then merges.\n",
    "    # returns dataframe in column names representing their respective close prices\n",
    "    # eg. df.columns will give you ['HDFC', 'ICICI', 'DMART', ...] where each column represents its close price\n",
    "    # df.index will be Date object\n",
    "    concatted_df = pd.concat([df[['Date', 'Close']].set_index('Date') for df in candles.values()], axis=1, join='outer')\n",
    "    concatted_df.columns = candles.keys()\n",
    "    print(concatted_df)\n",
    "    return concatted_df\n"
   ]
  },
  {
   "cell_type": "code",
   "execution_count": 5,
   "metadata": {},
   "outputs": [
    {
     "name": "stdout",
     "output_type": "stream",
     "text": [
      "                             DMART  GOLDBEES     HDFC  JUNIORBEES  NIFTYBEES  \\\n",
      "Date                                                                           \n",
      "2010-01-04 00:00:00+05:30      NaN       NaN   520.01         NaN        NaN   \n",
      "2010-01-11 00:00:00+05:30      NaN       NaN   504.30         NaN        NaN   \n",
      "2010-01-18 00:00:00+05:30      NaN       NaN   481.74         NaN        NaN   \n",
      "2010-01-25 00:00:00+05:30      NaN       NaN   476.77         NaN        NaN   \n",
      "2010-02-01 00:00:00+05:30      NaN       NaN   477.96         NaN        NaN   \n",
      "...                            ...       ...      ...         ...        ...   \n",
      "2019-12-02 00:00:00+05:30  1801.40     33.60  2264.65      289.90     126.20   \n",
      "2019-12-09 00:00:00+05:30  1782.75     33.20  2354.50      290.71     127.90   \n",
      "2019-12-16 00:00:00+05:30  1919.60     33.65  2404.10      293.92     130.34   \n",
      "2019-12-23 00:00:00+05:30  1925.55     34.15  2444.15      296.18     129.56   \n",
      "2019-12-30 00:00:00+05:30  1828.50     34.35  2433.95      293.53     129.42   \n",
      "\n",
      "                               TCS   MARUTI  KNRCON  \n",
      "Date                                                 \n",
      "2010-01-04 00:00:00+05:30   344.53  1433.15   26.47  \n",
      "2010-01-11 00:00:00+05:30   389.63  1413.45   25.10  \n",
      "2010-01-18 00:00:00+05:30   373.11  1444.45   24.10  \n",
      "2010-01-25 00:00:00+05:30   362.45  1389.45   25.09  \n",
      "2010-02-01 00:00:00+05:30   356.20  1358.90   24.67  \n",
      "...                            ...      ...     ...  \n",
      "2019-12-02 00:00:00+05:30  2123.60  6886.70  225.70  \n",
      "2019-12-09 00:00:00+05:30  2071.25  7214.95  246.60  \n",
      "2019-12-16 00:00:00+05:30  2222.90  7261.50  230.95  \n",
      "2019-12-23 00:00:00+05:30  2198.50  7344.90  233.85  \n",
      "2019-12-30 00:00:00+05:30  2167.60  7311.70  253.60  \n",
      "\n",
      "[522 rows x 8 columns]\n"
     ]
    }
   ],
   "source": [
    "universe = merge_candles(candles)"
   ]
  },
  {
   "cell_type": "code",
   "execution_count": 6,
   "metadata": {},
   "outputs": [
    {
     "data": {
      "text/html": [
       "<div>\n",
       "<style scoped>\n",
       "    .dataframe tbody tr th:only-of-type {\n",
       "        vertical-align: middle;\n",
       "    }\n",
       "\n",
       "    .dataframe tbody tr th {\n",
       "        vertical-align: top;\n",
       "    }\n",
       "\n",
       "    .dataframe thead th {\n",
       "        text-align: right;\n",
       "    }\n",
       "</style>\n",
       "<table border=\"1\" class=\"dataframe\">\n",
       "  <thead>\n",
       "    <tr style=\"text-align: right;\">\n",
       "      <th></th>\n",
       "      <th>DMART</th>\n",
       "      <th>GOLDBEES</th>\n",
       "      <th>HDFC</th>\n",
       "      <th>JUNIORBEES</th>\n",
       "      <th>NIFTYBEES</th>\n",
       "      <th>TCS</th>\n",
       "      <th>MARUTI</th>\n",
       "      <th>KNRCON</th>\n",
       "    </tr>\n",
       "    <tr>\n",
       "      <th>Date</th>\n",
       "      <th></th>\n",
       "      <th></th>\n",
       "      <th></th>\n",
       "      <th></th>\n",
       "      <th></th>\n",
       "      <th></th>\n",
       "      <th></th>\n",
       "      <th></th>\n",
       "    </tr>\n",
       "  </thead>\n",
       "  <tbody>\n",
       "    <tr>\n",
       "      <th>2019-12-02 00:00:00+05:30</th>\n",
       "      <td>-0.011578</td>\n",
       "      <td>0.005988</td>\n",
       "      <td>-0.014191</td>\n",
       "      <td>-0.019780</td>\n",
       "      <td>-0.010196</td>\n",
       "      <td>0.034263</td>\n",
       "      <td>-0.049566</td>\n",
       "      <td>-0.021249</td>\n",
       "    </tr>\n",
       "    <tr>\n",
       "      <th>2019-12-09 00:00:00+05:30</th>\n",
       "      <td>-0.010353</td>\n",
       "      <td>-0.011905</td>\n",
       "      <td>0.039675</td>\n",
       "      <td>0.002794</td>\n",
       "      <td>0.013471</td>\n",
       "      <td>-0.024652</td>\n",
       "      <td>0.047664</td>\n",
       "      <td>0.092601</td>\n",
       "    </tr>\n",
       "    <tr>\n",
       "      <th>2019-12-16 00:00:00+05:30</th>\n",
       "      <td>0.076763</td>\n",
       "      <td>0.013554</td>\n",
       "      <td>0.021066</td>\n",
       "      <td>0.011042</td>\n",
       "      <td>0.019077</td>\n",
       "      <td>0.073217</td>\n",
       "      <td>0.006452</td>\n",
       "      <td>-0.063463</td>\n",
       "    </tr>\n",
       "    <tr>\n",
       "      <th>2019-12-23 00:00:00+05:30</th>\n",
       "      <td>0.003100</td>\n",
       "      <td>0.014859</td>\n",
       "      <td>0.016659</td>\n",
       "      <td>0.007689</td>\n",
       "      <td>-0.005984</td>\n",
       "      <td>-0.010977</td>\n",
       "      <td>0.011485</td>\n",
       "      <td>0.012557</td>\n",
       "    </tr>\n",
       "    <tr>\n",
       "      <th>2019-12-30 00:00:00+05:30</th>\n",
       "      <td>-0.050401</td>\n",
       "      <td>0.005857</td>\n",
       "      <td>-0.004173</td>\n",
       "      <td>-0.008947</td>\n",
       "      <td>-0.001081</td>\n",
       "      <td>-0.014055</td>\n",
       "      <td>-0.004520</td>\n",
       "      <td>0.084456</td>\n",
       "    </tr>\n",
       "  </tbody>\n",
       "</table>\n",
       "</div>"
      ],
      "text/plain": [
       "                              DMART  GOLDBEES      HDFC  JUNIORBEES  \\\n",
       "Date                                                                  \n",
       "2019-12-02 00:00:00+05:30 -0.011578  0.005988 -0.014191   -0.019780   \n",
       "2019-12-09 00:00:00+05:30 -0.010353 -0.011905  0.039675    0.002794   \n",
       "2019-12-16 00:00:00+05:30  0.076763  0.013554  0.021066    0.011042   \n",
       "2019-12-23 00:00:00+05:30  0.003100  0.014859  0.016659    0.007689   \n",
       "2019-12-30 00:00:00+05:30 -0.050401  0.005857 -0.004173   -0.008947   \n",
       "\n",
       "                           NIFTYBEES       TCS    MARUTI    KNRCON  \n",
       "Date                                                                \n",
       "2019-12-02 00:00:00+05:30  -0.010196  0.034263 -0.049566 -0.021249  \n",
       "2019-12-09 00:00:00+05:30   0.013471 -0.024652  0.047664  0.092601  \n",
       "2019-12-16 00:00:00+05:30   0.019077  0.073217  0.006452 -0.063463  \n",
       "2019-12-23 00:00:00+05:30  -0.005984 -0.010977  0.011485  0.012557  \n",
       "2019-12-30 00:00:00+05:30  -0.001081 -0.014055 -0.004520  0.084456  "
      ]
     },
     "execution_count": 6,
     "metadata": {},
     "output_type": "execute_result"
    }
   ],
   "source": [
    "ut = universe.tail(6).pct_change().dropna()\n",
    "ut"
   ]
  },
  {
   "cell_type": "code",
   "execution_count": 12,
   "metadata": {},
   "outputs": [
    {
     "name": "stdout",
     "output_type": "stream",
     "text": [
      "DMART         0.001506\n",
      "GOLDBEES      0.005671\n",
      "HDFC          0.011807\n",
      "JUNIORBEES   -0.001440\n",
      "NIFTYBEES     0.003057\n",
      "TCS           0.011559\n",
      "MARUTI        0.002303\n",
      "KNRCON        0.020980\n",
      "dtype: float64\n",
      "DMART         0.002168\n",
      "GOLDBEES      0.000114\n",
      "HDFC          0.000454\n",
      "JUNIORBEES    0.000162\n",
      "NIFTYBEES     0.000160\n",
      "TCS           0.001698\n",
      "MARUTI        0.001224\n",
      "KNRCON        0.004536\n",
      "dtype: float64\n",
      "               DMART  GOLDBEES      HDFC  JUNIORBEES  NIFTYBEES       TCS  \\\n",
      "DMART       0.002168  0.000201  0.000386    0.000383   0.000364  0.001517   \n",
      "GOLDBEES    0.000201  0.000114 -0.000096    0.000025  -0.000036  0.000229   \n",
      "HDFC        0.000386 -0.000096  0.000454    0.000219   0.000201 -0.000182   \n",
      "JUNIORBEES  0.000383  0.000025  0.000219    0.000162   0.000109  0.000047   \n",
      "NIFTYBEES   0.000364 -0.000036  0.000201    0.000109   0.000160  0.000155   \n",
      "TCS         0.001517  0.000229 -0.000182    0.000047   0.000155  0.001698   \n",
      "MARUTI      0.000205 -0.000174  0.000701    0.000333   0.000293 -0.000649   \n",
      "KNRCON     -0.002490 -0.000501  0.000314   -0.000132  -0.000058 -0.002549   \n",
      "\n",
      "              MARUTI    KNRCON  \n",
      "DMART       0.000205 -0.002490  \n",
      "GOLDBEES   -0.000174 -0.000501  \n",
      "HDFC        0.000701  0.000314  \n",
      "JUNIORBEES  0.000333 -0.000132  \n",
      "NIFTYBEES   0.000293 -0.000058  \n",
      "TCS        -0.000649 -0.002549  \n",
      "MARUTI      0.001224  0.001145  \n",
      "KNRCON      0.001145  0.004536  \n"
     ]
    }
   ],
   "source": [
    "print(ut.mean())\n",
    "print(ut.var())\n",
    "print(ut.cov())"
   ]
  },
  {
   "cell_type": "code",
   "execution_count": 8,
   "metadata": {},
   "outputs": [
    {
     "data": {
      "text/plain": [
       "0.002168097757752744"
      ]
     },
     "execution_count": 8,
     "metadata": {},
     "output_type": "execute_result"
    }
   ],
   "source": [
    "sum((ut['DMART']-0.001506)**2)/(5-1) # variance for dmart "
   ]
  },
  {
   "cell_type": "code",
   "execution_count": 21,
   "metadata": {},
   "outputs": [
    {
     "data": {
      "text/plain": [
       "0.000201"
      ]
     },
     "execution_count": 21,
     "metadata": {},
     "output_type": "execute_result"
    }
   ],
   "source": [
    "# calculate the covariance manually.\n",
    "round(sum((ut['DMART'] - 0.001506)*(ut['GOLDBEES'] - 0.005671))/4, 6)"
   ]
  },
  {
   "cell_type": "code",
   "execution_count": null,
   "metadata": {},
   "outputs": [],
   "source": []
  }
 ],
 "metadata": {
  "kernelspec": {
   "display_name": "Python 3",
   "language": "python",
   "name": "python3"
  },
  "language_info": {
   "codemirror_mode": {
    "name": "ipython",
    "version": 3
   },
   "file_extension": ".py",
   "mimetype": "text/x-python",
   "name": "python",
   "nbconvert_exporter": "python",
   "pygments_lexer": "ipython3",
   "version": "3.7.4"
  }
 },
 "nbformat": 4,
 "nbformat_minor": 4
}
